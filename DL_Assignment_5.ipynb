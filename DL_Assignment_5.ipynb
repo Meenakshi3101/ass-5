{
  "nbformat": 4,
  "nbformat_minor": 0,
  "metadata": {
    "colab": {
      "provenance": []
    },
    "kernelspec": {
      "name": "python3",
      "display_name": "Python 3"
    },
    "language_info": {
      "name": "python"
    }
  },
  "cells": [
    {
      "cell_type": "code",
      "execution_count": 1,
      "metadata": {
        "id": "DGcpxhXJnLTS"
      },
      "outputs": [],
      "source": [
        "import numpy as np\n",
        "import pandas as pd\n",
        "import seaborn as sns\n",
        "import matplotlib as mpl\n",
        "import matplotlib.pyplot as plt\n",
        "import matplotlib.pylab as pylab"
      ]
    },
    {
      "cell_type": "code",
      "source": [
        "import re"
      ],
      "metadata": {
        "id": "6dkqqMwlnSjy"
      },
      "execution_count": 2,
      "outputs": []
    },
    {
      "cell_type": "code",
      "source": [
        "sentences = \"\"\"We are about to study the idea of a computational process.\n",
        "Computational processes are abstract beings that inhabit computers.\n",
        "As they evolve, processes manipulate other abstract things called data.\n",
        "The evolution of a process is directed by a pattern of rules called a program.\n",
        "People create programs to direct processes. In effect,\n",
        "we conjure the spirits of the computer with our spells.\"\"\""
      ],
      "metadata": {
        "id": "33mvATBlnSlm"
      },
      "execution_count": 3,
      "outputs": []
    },
    {
      "cell_type": "code",
      "source": [
        "senteces = re.sub('[^A-Za-z0-9]+', ' ', sentences)"
      ],
      "metadata": {
        "id": "ljKDd84xnSpB"
      },
      "execution_count": 4,
      "outputs": []
    },
    {
      "cell_type": "code",
      "source": [
        "senteces = re.sub(r'(?:^| )\\w(?:$| )', ' ', sentences).strip()"
      ],
      "metadata": {
        "id": "OwingxMinang"
      },
      "execution_count": 5,
      "outputs": []
    },
    {
      "cell_type": "code",
      "source": [
        "sentences = sentences.lower()"
      ],
      "metadata": {
        "id": "mOrx8A_Wnaq4"
      },
      "execution_count": 6,
      "outputs": []
    },
    {
      "cell_type": "code",
      "source": [
        "words = sentences.split()\n",
        "vocab = set(words)"
      ],
      "metadata": {
        "id": "u2ftMnpKnhTa"
      },
      "execution_count": 7,
      "outputs": []
    },
    {
      "cell_type": "code",
      "source": [
        "vocab_size = len(vocab)\n",
        "embed_dim = 10\n",
        "context_size = 2"
      ],
      "metadata": {
        "id": "zHo5Pf2QnhZB"
      },
      "execution_count": 8,
      "outputs": []
    },
    {
      "cell_type": "code",
      "source": [
        "word_to_ix = {word: i for i, word in enumerate(vocab)}\n",
        "ix_to_word = {i: word for i, word in enumerate(vocab)}"
      ],
      "metadata": {
        "id": "vaV9iKurniAa"
      },
      "execution_count": 9,
      "outputs": []
    },
    {
      "cell_type": "code",
      "source": [
        "data = []\n",
        "for i in range(2,len(words) - 2):\n",
        "  context = [words[i-2], words[i-1], words[i+1], words[i+2]]\n",
        "  target = words[i]\n",
        "  data.append((context,target))\n",
        "print(data[:5])"
      ],
      "metadata": {
        "colab": {
          "base_uri": "https://localhost:8080/"
        },
        "id": "SWKHy0pFniD8",
        "outputId": "463d91bd-d513-4735-824d-75f65f05fa26"
      },
      "execution_count": 10,
      "outputs": [
        {
          "output_type": "stream",
          "name": "stdout",
          "text": [
            "[(['we', 'are', 'to', 'study'], 'about'), (['are', 'about', 'study', 'the'], 'to'), (['about', 'to', 'the', 'idea'], 'study'), (['to', 'study', 'idea', 'of'], 'the'), (['study', 'the', 'of', 'a'], 'idea')]\n"
          ]
        }
      ]
    },
    {
      "cell_type": "code",
      "source": [
        "embeddings = np.random.random_sample((vocab_size , embed_dim))"
      ],
      "metadata": {
        "id": "nw51e25DnyvJ"
      },
      "execution_count": 11,
      "outputs": []
    },
    {
      "cell_type": "code",
      "source": [
        "def linear(m,theta):\n",
        "  w = theta\n",
        "  return m.dot(w)"
      ],
      "metadata": {
        "id": "Dy5hrWOun3ix"
      },
      "execution_count": 12,
      "outputs": []
    },
    {
      "cell_type": "code",
      "source": [
        "def log_softmax(x):\n",
        "  e_x = np.exp(x-np.max(x))\n",
        "  return np.log(e_x/e_x.sum())"
      ],
      "metadata": {
        "id": "U2PZ_xJun3wq"
      },
      "execution_count": 13,
      "outputs": []
    },
    {
      "cell_type": "code",
      "source": [
        "def NLLLoss(logs,targets):\n",
        "  out = logs[range(len(targets)),targets]\n",
        "  return -out.sum()/len(out)"
      ],
      "metadata": {
        "id": "wgtpGo6Hn30H"
      },
      "execution_count": 14,
      "outputs": []
    },
    {
      "cell_type": "code",
      "source": [
        "def log_softmax_crossentropy_with_logits(logits,target):\n",
        "  out = np.zeros_like(logits)\n",
        "  out[np.arange(len(logits)) , target] = 1\n",
        "\n",
        "  softmax = np.exp(logits) / np.exp(logits).sum(axis=-1, keepdims=True)\n",
        "\n",
        "  return(- out + softmax) / logits.shape[0]"
      ],
      "metadata": {
        "id": "2Y0UQi90n373"
      },
      "execution_count": 15,
      "outputs": []
    },
    {
      "cell_type": "code",
      "source": [
        "def forward(context_idxs, theta):\n",
        "  m = embeddings[context_idxs].reshape(1, -1)\n",
        "  n = linear(m, theta)\n",
        "  o = log_softmax(n)\n",
        "\n",
        "  return m, n, o"
      ],
      "metadata": {
        "id": "PY9-9cwFoBjr"
      },
      "execution_count": 16,
      "outputs": []
    },
    {
      "cell_type": "code",
      "source": [
        "def backward(preds, theta, target_idxs):\n",
        "  m, n, o = preds\n",
        "\n",
        "  dlog = log_softmax_crossentropy_with_logits(n, target_idxs)\n",
        "  dw = m.T.dot(dlog)\n",
        "\n",
        "\n",
        "  return dw"
      ],
      "metadata": {
        "id": "aGGktbP5oBnI"
      },
      "execution_count": 17,
      "outputs": []
    },
    {
      "cell_type": "code",
      "source": [
        "def optimize(theta, grad, lr=0.03):\n",
        "  theta -= grad * lr\n",
        "  return theta"
      ],
      "metadata": {
        "id": "yukzrfyNoJv-"
      },
      "execution_count": 18,
      "outputs": []
    },
    {
      "cell_type": "code",
      "source": [
        "theta = np.random.uniform(-1,1, (2 * context_size * embed_dim, vocab_size))"
      ],
      "metadata": {
        "id": "n7Ai8Sg8oJzb"
      },
      "execution_count": 19,
      "outputs": []
    },
    {
      "cell_type": "code",
      "source": [
        "epoch_losses = {}\n",
        "\n",
        "for epoch in range(80):\n",
        "\n",
        "  losses = []\n",
        "\n",
        "  for context, target in data:\n",
        "    context_idxs = np.array([word_to_ix[w] for w in context])\n",
        "    preds = forward(context_idxs,theta)\n",
        "\n",
        "    target_idxs = np.array([word_to_ix[target]])\n",
        "    loss = NLLLoss(preds[-1], target_idxs)\n",
        "\n",
        "    losses.append(loss)\n",
        "\n",
        "    grad = backward(preds, theta, target_idxs)\n",
        "    theta = optimize(theta, grad, lr=0.03)\n",
        "\n",
        "  epoch_losses[epoch] = losses"
      ],
      "metadata": {
        "id": "mKVpDWIEoT0W"
      },
      "execution_count": 20,
      "outputs": []
    },
    {
      "cell_type": "code",
      "source": [
        "ix = np.arange(0,80)\n",
        "\n",
        "fig = plt.figure()\n",
        "fig.suptitle('Epoch/Losses', fontsize = 20)\n",
        "plt.plot(ix,[epoch_losses[i][0] for i in ix])\n",
        "plt.xlabel('Epochs' , fontsize = 12)\n",
        "plt.ylabel('Losses' , fontsize = 12)"
      ],
      "metadata": {
        "colab": {
          "base_uri": "https://localhost:8080/",
          "height": 518
        },
        "id": "uADxuikCoWTc",
        "outputId": "daf85bcc-cc09-49c6-d80a-3c759c71d651"
      },
      "execution_count": 21,
      "outputs": [
        {
          "output_type": "execute_result",
          "data": {
            "text/plain": [
              "Text(0, 0.5, 'Losses')"
            ]
          },
          "metadata": {},
          "execution_count": 21
        },
        {
          "output_type": "display_data",
          "data": {
            "text/plain": [
              "<Figure size 640x480 with 1 Axes>"
            ],
            "image/png": "[encoded data removed]"
          },
          "metadata": {}
        }
      ]
    },
    {
      "cell_type": "code",
      "source": [
        "def predict(words):\n",
        "  context_idxs = np.array([word_to_ix[w] for w in words])\n",
        "  preds = forward(context_idxs,theta)\n",
        "  word = ix_to_word[np.argmax(preds[-1])]\n",
        "\n",
        "  return word"
      ],
      "metadata": {
        "id": "-vKRWKivoT3x"
      },
      "execution_count": 22,
      "outputs": []
    },
    {
      "cell_type": "code",
      "source": [
        "predict(['we','are','to','study'])"
      ],
      "metadata": {
        "colab": {
          "base_uri": "https://localhost:8080/",
          "height": 35
        },
        "id": "79jb28uWoc-4",
        "outputId": "49c4af10-6cc2-4ff7-9daa-8aab88302fbb"
      },
      "execution_count": 23,
      "outputs": [
        {
          "output_type": "execute_result",
          "data": {
            "text/plain": [
              "'about'"
            ],
            "application/vnd.google.colaboratory.intrinsic+json": {
              "type": "string"
            }
          },
          "metadata": {},
          "execution_count": 23
        }
      ]
    },
    {
      "cell_type": "code",
      "source": [
        "def accuracy():\n",
        "  wrong = 0\n",
        "\n",
        "  for context, target in data:\n",
        "    if(predict(context) != target):\n",
        "      wrong += 1\n",
        "\n",
        "  return (1 - wrong / len(data))"
      ],
      "metadata": {
        "id": "Y_jtj40xodCR"
      },
      "execution_count": 24,
      "outputs": []
    },
    {
      "cell_type": "code",
      "source": [
        "accuracy()"
      ],
      "metadata": {
        "colab": {
          "base_uri": "https://localhost:8080/"
        },
        "id": "_mm2FspEokxE",
        "outputId": "94d2b4d1-4119-4f2a-8633-b188073d094b"
      },
      "execution_count": 25,
      "outputs": [
        {
          "output_type": "execute_result",
          "data": {
            "text/plain": [
              "1.0"
            ]
          },
          "metadata": {},
          "execution_count": 25
        }
      ]
    },
    {
      "cell_type": "code",
      "source": [
        "predict(['processes' , 'manipulate' , 'things' , 'study'])"
      ],
      "metadata": {
        "colab": {
          "base_uri": "https://localhost:8080/",
          "height": 35
        },
        "id": "wrjxEIo-ok0n",
        "outputId": "de39a978-5f0f-49a2-bc23-b77062b00bff"
      },
      "execution_count": 26,
      "outputs": [
        {
          "output_type": "execute_result",
          "data": {
            "text/plain": [
              "'abstract'"
            ],
            "application/vnd.google.colaboratory.intrinsic+json": {
              "type": "string"
            }
          },
          "metadata": {},
          "execution_count": 26
        }
      ]
    }
  ]
}